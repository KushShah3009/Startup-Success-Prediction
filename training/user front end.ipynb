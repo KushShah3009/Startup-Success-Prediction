{
 "cells": [
  {
   "cell_type": "code",
   "execution_count": 13,
   "id": "d40d5da8",
   "metadata": {},
   "outputs": [
    {
     "data": {
      "text/html": [
       "<div>\n",
       "<style scoped>\n",
       "    .dataframe tbody tr th:only-of-type {\n",
       "        vertical-align: middle;\n",
       "    }\n",
       "\n",
       "    .dataframe tbody tr th {\n",
       "        vertical-align: top;\n",
       "    }\n",
       "\n",
       "    .dataframe thead th {\n",
       "        text-align: right;\n",
       "    }\n",
       "</style>\n",
       "<table border=\"1\" class=\"dataframe\">\n",
       "  <thead>\n",
       "    <tr style=\"text-align: right;\">\n",
       "      <th></th>\n",
       "      <th>category_code</th>\n",
       "      <th>country_code</th>\n",
       "      <th>entity_type</th>\n",
       "      <th>entity_id</th>\n",
       "      <th>status</th>\n",
       "      <th>founded_at</th>\n",
       "      <th>closed_at</th>\n",
       "      <th>first_investment_at</th>\n",
       "      <th>last_investment_at</th>\n",
       "      <th>investment_rounds</th>\n",
       "      <th>...</th>\n",
       "      <th>milestones</th>\n",
       "      <th>relationships</th>\n",
       "      <th>countryfreq</th>\n",
       "      <th>categoryfreq</th>\n",
       "      <th>timeininvestment</th>\n",
       "      <th>investmentaffinity</th>\n",
       "      <th>timeinfunding</th>\n",
       "      <th>fundingaffinity</th>\n",
       "      <th>timeinmilestone</th>\n",
       "      <th>outcome</th>\n",
       "    </tr>\n",
       "  </thead>\n",
       "  <tbody>\n",
       "    <tr>\n",
       "      <th>0</th>\n",
       "      <td>advertising</td>\n",
       "      <td>USA</td>\n",
       "      <td>Company</td>\n",
       "      <td>18970</td>\n",
       "      <td>operating</td>\n",
       "      <td>1999-01-30</td>\n",
       "      <td>NaN</td>\n",
       "      <td>NaN</td>\n",
       "      <td>NaN</td>\n",
       "      <td>0</td>\n",
       "      <td>...</td>\n",
       "      <td>0</td>\n",
       "      <td>0</td>\n",
       "      <td>0.578086</td>\n",
       "      <td>0.058896</td>\n",
       "      <td>-1.0</td>\n",
       "      <td>0.0</td>\n",
       "      <td>-1.0</td>\n",
       "      <td>0.0</td>\n",
       "      <td>-1.0</td>\n",
       "      <td>0</td>\n",
       "    </tr>\n",
       "    <tr>\n",
       "      <th>1</th>\n",
       "      <td>advertising</td>\n",
       "      <td>USA</td>\n",
       "      <td>Company</td>\n",
       "      <td>152092</td>\n",
       "      <td>operating</td>\n",
       "      <td>2010-11-01</td>\n",
       "      <td>NaN</td>\n",
       "      <td>NaN</td>\n",
       "      <td>NaN</td>\n",
       "      <td>0</td>\n",
       "      <td>...</td>\n",
       "      <td>2</td>\n",
       "      <td>4</td>\n",
       "      <td>0.578086</td>\n",
       "      <td>0.058896</td>\n",
       "      <td>-1.0</td>\n",
       "      <td>0.0</td>\n",
       "      <td>791.0</td>\n",
       "      <td>0.0</td>\n",
       "      <td>533.0</td>\n",
       "      <td>0</td>\n",
       "    </tr>\n",
       "    <tr>\n",
       "      <th>2</th>\n",
       "      <td>advertising</td>\n",
       "      <td>USA</td>\n",
       "      <td>Company</td>\n",
       "      <td>179058</td>\n",
       "      <td>operating</td>\n",
       "      <td>2005-01-10</td>\n",
       "      <td>NaN</td>\n",
       "      <td>NaN</td>\n",
       "      <td>NaN</td>\n",
       "      <td>0</td>\n",
       "      <td>...</td>\n",
       "      <td>1</td>\n",
       "      <td>2</td>\n",
       "      <td>0.578086</td>\n",
       "      <td>0.058896</td>\n",
       "      <td>-1.0</td>\n",
       "      <td>0.0</td>\n",
       "      <td>-1.0</td>\n",
       "      <td>0.0</td>\n",
       "      <td>0.0</td>\n",
       "      <td>0</td>\n",
       "    </tr>\n",
       "    <tr>\n",
       "      <th>3</th>\n",
       "      <td>advertising</td>\n",
       "      <td>USA</td>\n",
       "      <td>Company</td>\n",
       "      <td>279620</td>\n",
       "      <td>operating</td>\n",
       "      <td>2012-01-01</td>\n",
       "      <td>NaN</td>\n",
       "      <td>NaN</td>\n",
       "      <td>NaN</td>\n",
       "      <td>0</td>\n",
       "      <td>...</td>\n",
       "      <td>0</td>\n",
       "      <td>0</td>\n",
       "      <td>0.578086</td>\n",
       "      <td>0.058896</td>\n",
       "      <td>-1.0</td>\n",
       "      <td>0.0</td>\n",
       "      <td>-1.0</td>\n",
       "      <td>0.0</td>\n",
       "      <td>-1.0</td>\n",
       "      <td>0</td>\n",
       "    </tr>\n",
       "    <tr>\n",
       "      <th>4</th>\n",
       "      <td>advertising</td>\n",
       "      <td>GBR</td>\n",
       "      <td>Company</td>\n",
       "      <td>66775</td>\n",
       "      <td>operating</td>\n",
       "      <td>2011-01-01</td>\n",
       "      <td>NaN</td>\n",
       "      <td>NaN</td>\n",
       "      <td>NaN</td>\n",
       "      <td>0</td>\n",
       "      <td>...</td>\n",
       "      <td>0</td>\n",
       "      <td>13</td>\n",
       "      <td>0.081206</td>\n",
       "      <td>0.058896</td>\n",
       "      <td>-1.0</td>\n",
       "      <td>0.0</td>\n",
       "      <td>934.0</td>\n",
       "      <td>0.0</td>\n",
       "      <td>-1.0</td>\n",
       "      <td>0</td>\n",
       "    </tr>\n",
       "  </tbody>\n",
       "</table>\n",
       "<p>5 rows × 27 columns</p>\n",
       "</div>"
      ],
      "text/plain": [
       "  category_code country_code entity_type  entity_id     status  founded_at  \\\n",
       "0   advertising          USA     Company      18970  operating  1999-01-30   \n",
       "1   advertising          USA     Company     152092  operating  2010-11-01   \n",
       "2   advertising          USA     Company     179058  operating  2005-01-10   \n",
       "3   advertising          USA     Company     279620  operating  2012-01-01   \n",
       "4   advertising          GBR     Company      66775  operating  2011-01-01   \n",
       "\n",
       "  closed_at first_investment_at last_investment_at  investment_rounds  ...  \\\n",
       "0       NaN                 NaN                NaN                  0  ...   \n",
       "1       NaN                 NaN                NaN                  0  ...   \n",
       "2       NaN                 NaN                NaN                  0  ...   \n",
       "3       NaN                 NaN                NaN                  0  ...   \n",
       "4       NaN                 NaN                NaN                  0  ...   \n",
       "\n",
       "   milestones relationships countryfreq  categoryfreq  timeininvestment  \\\n",
       "0           0             0    0.578086      0.058896              -1.0   \n",
       "1           2             4    0.578086      0.058896              -1.0   \n",
       "2           1             2    0.578086      0.058896              -1.0   \n",
       "3           0             0    0.578086      0.058896              -1.0   \n",
       "4           0            13    0.081206      0.058896              -1.0   \n",
       "\n",
       "  investmentaffinity timeinfunding  fundingaffinity  timeinmilestone  outcome  \n",
       "0                0.0          -1.0              0.0             -1.0        0  \n",
       "1                0.0         791.0              0.0            533.0        0  \n",
       "2                0.0          -1.0              0.0              0.0        0  \n",
       "3                0.0          -1.0              0.0             -1.0        0  \n",
       "4                0.0         934.0              0.0             -1.0        0  \n",
       "\n",
       "[5 rows x 27 columns]"
      ]
     },
     "execution_count": 13,
     "metadata": {},
     "output_type": "execute_result"
    }
   ],
   "source": [
    "import pandas as pd\n",
    "df = pd.read_csv(\"metadata.csv\")\n",
    "df = df.drop(\"Unnamed: 0\", axis = 1)\n",
    "df.head()"
   ]
  },
  {
   "cell_type": "code",
   "execution_count": 14,
   "id": "b381dbaf",
   "metadata": {},
   "outputs": [
    {
     "data": {
      "text/html": [
       "<div>\n",
       "<style scoped>\n",
       "    .dataframe tbody tr th:only-of-type {\n",
       "        vertical-align: middle;\n",
       "    }\n",
       "\n",
       "    .dataframe tbody tr th {\n",
       "        vertical-align: top;\n",
       "    }\n",
       "\n",
       "    .dataframe thead th {\n",
       "        text-align: right;\n",
       "    }\n",
       "</style>\n",
       "<table border=\"1\" class=\"dataframe\">\n",
       "  <thead>\n",
       "    <tr style=\"text-align: right;\">\n",
       "      <th></th>\n",
       "      <th>countries</th>\n",
       "      <th>total</th>\n",
       "    </tr>\n",
       "  </thead>\n",
       "  <tbody>\n",
       "    <tr>\n",
       "      <th>0</th>\n",
       "      <td>AFG</td>\n",
       "      <td>8</td>\n",
       "    </tr>\n",
       "    <tr>\n",
       "      <th>1</th>\n",
       "      <td>AGO</td>\n",
       "      <td>2</td>\n",
       "    </tr>\n",
       "    <tr>\n",
       "      <th>2</th>\n",
       "      <td>ALB</td>\n",
       "      <td>8</td>\n",
       "    </tr>\n",
       "    <tr>\n",
       "      <th>3</th>\n",
       "      <td>AND</td>\n",
       "      <td>1</td>\n",
       "    </tr>\n",
       "    <tr>\n",
       "      <th>4</th>\n",
       "      <td>ANT</td>\n",
       "      <td>15</td>\n",
       "    </tr>\n",
       "  </tbody>\n",
       "</table>\n",
       "</div>"
      ],
      "text/plain": [
       "  countries  total\n",
       "0       AFG      8\n",
       "1       AGO      2\n",
       "2       ALB      8\n",
       "3       AND      1\n",
       "4       ANT     15"
      ]
     },
     "execution_count": 14,
     "metadata": {},
     "output_type": "execute_result"
    }
   ],
   "source": [
    "#getting country transformation\n",
    "country = pd.read_csv(\"countrymeta.csv\")\n",
    "country.rename(columns = {\"objectsDF$country_code\" : \"countries\"}, inplace=True)\n",
    "country.head()"
   ]
  },
  {
   "cell_type": "code",
   "execution_count": 15,
   "id": "0e1c029a",
   "metadata": {},
   "outputs": [
    {
     "name": "stdout",
     "output_type": "stream",
     "text": [
      "1 AFG\n",
      "2 AGO\n",
      "3 ALB\n",
      "4 AND\n",
      "5 ANT\n",
      "6 ARA\n",
      "7 ARE\n",
      "8 ARG\n",
      "9 ARM\n",
      "10 ATG\n",
      "11 AUS\n",
      "12 AUT\n",
      "13 AZE\n",
      "14 BDI\n",
      "15 BEL\n",
      "16 BEN\n",
      "17 BGD\n",
      "18 BGR\n",
      "19 BHR\n",
      "20 BHS\n",
      "21 BIH\n",
      "22 BLR\n",
      "23 BLZ\n",
      "24 BMU\n",
      "25 BOL\n",
      "26 BRA\n",
      "27 BRB\n",
      "28 BRN\n",
      "29 BWA\n",
      "30 CAN\n",
      "31 CHE\n",
      "32 CHL\n",
      "33 CHN\n",
      "34 CIV\n",
      "35 CMR\n",
      "36 COL\n",
      "37 CRI\n",
      "38 CSS\n",
      "39 CUB\n",
      "40 CYM\n",
      "41 CYP\n",
      "42 CZE\n",
      "43 DEU\n",
      "44 DMA\n",
      "45 DNK\n",
      "46 DOM\n",
      "47 DZA\n",
      "48 ECU\n",
      "49 EGY\n",
      "50 ESP\n",
      "51 EST\n",
      "52 ETH\n",
      "53 FIN\n",
      "54 FRA\n",
      "55 FST\n",
      "56 GBR\n",
      "57 GEO\n",
      "58 GHA\n",
      "59 GIB\n",
      "60 GLP\n",
      "61 GRC\n",
      "62 GRD\n",
      "63 GTM\n",
      "64 HKG\n",
      "65 HRV\n",
      "66 HTI\n",
      "67 HUN\n",
      "68 IDN\n",
      "69 IND\n",
      "70 IOT\n",
      "71 IRL\n",
      "72 IRN\n",
      "73 IRQ\n",
      "74 ISL\n",
      "75 ISR\n",
      "76 ITA\n",
      "77 JAM\n",
      "78 JOR\n",
      "79 JPN\n",
      "80 KAZ\n",
      "81 KEN\n",
      "82 KGZ\n",
      "83 KOR\n",
      "84 KWT\n",
      "85 LAO\n",
      "86 LBN\n",
      "87 LIE\n",
      "88 LKA\n",
      "89 LTU\n",
      "90 LUX\n",
      "91 LVA\n",
      "92 MAR\n",
      "93 MCO\n",
      "94 MDA\n",
      "95 MDG\n",
      "96 MDV\n",
      "97 MEX\n",
      "98 MKD\n",
      "99 MLT\n",
      "100 MMR\n",
      "101 MTQ\n",
      "102 MUS\n",
      "103 MYS\n",
      "104 NAM\n",
      "105 NCL\n",
      "106 NFK\n",
      "107 NGA\n",
      "108 NLD\n",
      "109 NOR\n",
      "110 NPL\n",
      "111 NRU\n",
      "112 NZL\n",
      "113 OMN\n",
      "114 PAK\n",
      "115 PAN\n",
      "116 PCN\n",
      "117 PER\n",
      "118 PHL\n",
      "119 POL\n",
      "120 PRI\n",
      "121 PRK\n",
      "122 PRT\n",
      "123 PRY\n",
      "124 PST\n",
      "125 QAT\n",
      "126 REU\n",
      "127 ROM\n",
      "128 RUS\n",
      "129 RWA\n",
      "130 SAU\n",
      "131 SDN\n",
      "132 SEN\n",
      "133 SGP\n",
      "134 SLE\n",
      "135 SLV\n",
      "136 SMR\n",
      "137 SOM\n",
      "138 SUR\n",
      "139 SVK\n",
      "140 SVN\n",
      "141 SWE\n",
      "142 SWZ\n",
      "143 SYC\n",
      "144 SYR\n",
      "145 THA\n",
      "146 TTO\n",
      "147 TUN\n",
      "148 TUR\n",
      "149 TWN\n",
      "150 TZA\n",
      "151 UGA\n",
      "152 UKR\n",
      "153 UMI\n",
      "154 URY\n",
      "155 USA\n",
      "156 UZB\n",
      "157 VCT\n",
      "158 VEN\n",
      "159 VGB\n",
      "160 VIR\n",
      "161 VNM\n",
      "162 YEM\n",
      "163 ZAF\n",
      "164 ZMB\n",
      "165 ZWE\n",
      "Enter the country code : USA\n",
      "0.5780596642326655\n"
     ]
    }
   ],
   "source": [
    "for index,value in enumerate(list(country[\"countries\"])):\n",
    "    print(index + 1, value)\n",
    "    \n",
    "country_selected = str(input(\"Enter the country code : \"))\n",
    "probcountry = (int(country.query(f\"countries == '{country_selected}'\")[\"total\"]) + 1) / (country[\"total\"].sum() + 1)\n",
    "print(probcountry)"
   ]
  },
  {
   "cell_type": "code",
   "execution_count": 16,
   "id": "11ed6bac",
   "metadata": {},
   "outputs": [],
   "source": [
    "category = df.groupby(\"category_code\").size()\n",
    "catdf = pd.DataFrame(category)\n",
    "catdf.reset_index(inplace = True)\n",
    "catdf.rename(columns = {0 : \"total\"}, inplace = True)"
   ]
  },
  {
   "cell_type": "code",
   "execution_count": 17,
   "id": "5d69e2cf",
   "metadata": {},
   "outputs": [
    {
     "name": "stdout",
     "output_type": "stream",
     "text": [
      "1 advertising\n",
      "2 analytics\n",
      "3 automotive\n",
      "4 biotech\n",
      "5 cleantech\n",
      "6 consulting\n",
      "7 design\n",
      "8 ecommerce\n",
      "9 education\n",
      "10 enterprise\n",
      "11 fashion\n",
      "12 finance\n",
      "13 games_video\n",
      "14 government\n",
      "15 hardware\n",
      "16 health\n",
      "17 hospitality\n",
      "18 legal\n",
      "19 local\n",
      "20 manufacturing\n",
      "21 medical\n",
      "22 messaging\n",
      "23 mobile\n",
      "24 music\n",
      "25 nanotech\n",
      "26 network_hosting\n",
      "27 news\n",
      "28 nonprofit\n",
      "29 other\n",
      "30 pets\n",
      "31 photo_video\n",
      "32 public_relations\n",
      "33 real_estate\n",
      "34 search\n",
      "35 security\n",
      "36 semiconductor\n",
      "37 social\n",
      "38 software\n",
      "39 sports\n",
      "40 transportation\n",
      "41 travel\n",
      "42 web\n"
     ]
    }
   ],
   "source": [
    "for index,value in enumerate(list(catdf[\"category_code\"])):\n",
    "    print(index + 1, value)\n",
    "    \n",
    "    "
   ]
  },
  {
   "cell_type": "code",
   "execution_count": 18,
   "id": "68c61e68",
   "metadata": {},
   "outputs": [
    {
     "name": "stdout",
     "output_type": "stream",
     "text": [
      "Enter the category: sports\n",
      "0.002673880410307731\n"
     ]
    }
   ],
   "source": [
    "category_selected = str(input(\"Enter the category: \"))\n",
    "probcategory = (int(catdf.query(f\"category_code == '{category_selected}'\")[\"total\"]) + 1) / (catdf[\"total\"].sum() + 1)\n",
    "print(probcategory)"
   ]
  },
  {
   "cell_type": "code",
   "execution_count": null,
   "id": "9dfe68a3",
   "metadata": {},
   "outputs": [],
   "source": []
  },
  {
   "cell_type": "code",
   "execution_count": 19,
   "id": "3c9ef1a4",
   "metadata": {},
   "outputs": [
    {
     "name": "stdout",
     "output_type": "stream",
     "text": [
      "Enter the foundation date(YYYY-MM-DD)2015-08-12\n",
      "2015-08-12\n"
     ]
    }
   ],
   "source": [
    "from datetime import datetime\n",
    "found_date = input(\"Enter the foundation date(YYYY-MM-DD)\")\n",
    "found_date = datetime.strptime(found_date, \"%Y-%m-%d\")\n",
    "print(datetime.date(found_date))"
   ]
  },
  {
   "cell_type": "code",
   "execution_count": 20,
   "id": "34a3a310",
   "metadata": {},
   "outputs": [
    {
     "name": "stdout",
     "output_type": "stream",
     "text": [
      "Enter the number of investment rounds: 0\n"
     ]
    }
   ],
   "source": [
    "import math\n",
    "invst_rounds = int(input(\"Enter the number of investment rounds: \"))\n",
    "timeinivestment = 0\n",
    "if invst_rounds == 0 :\n",
    "    timeinivestment = -1\n",
    "    investedcompanies = 0 \n",
    "else:\n",
    "    lastinvst_date = input(\"Enter the last investment(YYYY-MM-DD)\")\n",
    "    lastinvst_date = datetime.strptime(lastinvst_date, \"%Y-%m-%d\")\n",
    "    timeinivestment = (lastinvst_date - found_date).days\n",
    "    investedcompanies = int(input(\"Enter the number of companies invested:\"))\n",
    "\n",
    "investmentaffinity = (investedcompanies * invst_rounds) / (math.exp(timeinivestment))\n"
   ]
  },
  {
   "cell_type": "code",
   "execution_count": 22,
   "id": "622a0435",
   "metadata": {},
   "outputs": [
    {
     "name": "stdout",
     "output_type": "stream",
     "text": [
      "Enter the number of funding rounds: 2\n",
      "Enter the funds raised in USD :250000\n",
      "Enter the last funding(YYYY-MM-DD)2018-12-2\n",
      "1208\n"
     ]
    },
    {
     "ename": "OverflowError",
     "evalue": "math range error",
     "output_type": "error",
     "traceback": [
      "\u001b[0;31m---------------------------------------------------------------------------\u001b[0m",
      "\u001b[0;31mOverflowError\u001b[0m                             Traceback (most recent call last)",
      "\u001b[0;32m/var/folders/31/89q4lfy92jx4lp6kwytq6lmw0000gn/T/ipykernel_57248/936832174.py\u001b[0m in \u001b[0;36m<module>\u001b[0;34m\u001b[0m\n\u001b[1;32m     10\u001b[0m     \u001b[0mprint\u001b[0m\u001b[0;34m(\u001b[0m\u001b[0mtimeinfunds\u001b[0m\u001b[0;34m)\u001b[0m\u001b[0;34m\u001b[0m\u001b[0;34m\u001b[0m\u001b[0m\n\u001b[1;32m     11\u001b[0m \u001b[0;34m\u001b[0m\u001b[0m\n\u001b[0;32m---> 12\u001b[0;31m \u001b[0mfundingaffinity\u001b[0m \u001b[0;34m=\u001b[0m \u001b[0;34m(\u001b[0m\u001b[0mfundingraised\u001b[0m \u001b[0;34m*\u001b[0m \u001b[0mfunding_rounds\u001b[0m\u001b[0;34m)\u001b[0m \u001b[0;34m/\u001b[0m \u001b[0;34m(\u001b[0m\u001b[0mmath\u001b[0m\u001b[0;34m.\u001b[0m\u001b[0mexp\u001b[0m\u001b[0;34m(\u001b[0m\u001b[0mtimeinfunds\u001b[0m\u001b[0;34m)\u001b[0m\u001b[0;34m)\u001b[0m\u001b[0;34m\u001b[0m\u001b[0;34m\u001b[0m\u001b[0m\n\u001b[0m\u001b[1;32m     13\u001b[0m \u001b[0mprint\u001b[0m\u001b[0;34m(\u001b[0m\u001b[0mfundingaffinity\u001b[0m\u001b[0;34m)\u001b[0m\u001b[0;34m\u001b[0m\u001b[0;34m\u001b[0m\u001b[0m\n",
      "\u001b[0;31mOverflowError\u001b[0m: math range error"
     ]
    }
   ],
   "source": [
    "funding_rounds = int(input(\"Enter the number of funding rounds: \"))\n",
    "fundingraised = int(input(\"Enter the funds raised in USD :\"))\n",
    "timeinfunds = 0\n",
    "if funding_rounds == 0 :\n",
    "    timeinfunds = -1\n",
    "else:\n",
    "    lastfund_date = input(\"Enter the last funding(YYYY-MM-DD)\")\n",
    "    lastfund_date = datetime.strptime(lastfund_date, \"%Y-%m-%d\")\n",
    "    timeinfunds = (lastfund_date - found_date).days\n",
    "    print(timeinfunds)\n",
    "\n",
    "fundingaffinity = (fundingraised * funding_rounds) / (math.exp(timeinfunds))\n",
    "print(fundingaffinity)"
   ]
  },
  {
   "cell_type": "raw",
   "id": "0a5faf6d",
   "metadata": {},
   "source": [
    "milestones = int(input(\"Enter the number of milestones : \"))\n",
    "if milestones != 0 :\n",
    "    last_milestone_at = input(\"Enter the last milestone(YYYY-MM-DD)\")\n",
    "    last_milestone_at = datetime.strptime(last_milestone_at, \"%Y-%m-%d\")\n",
    "    timeinmilestone = (last_milestone_at - found_date).days\n",
    "else :\n",
    "    timeinmilestone = -1"
   ]
  },
  {
   "cell_type": "code",
   "execution_count": 58,
   "id": "106ea538",
   "metadata": {},
   "outputs": [
    {
     "name": "stdout",
     "output_type": "stream",
     "text": [
      "Enter the number of relationships that the startup has : 4\n"
     ]
    }
   ],
   "source": [
    "relationships = int(input(\"Enter the number of relationships that the startup has : \"))"
   ]
  },
  {
   "cell_type": "code",
   "execution_count": 59,
   "id": "7345e514",
   "metadata": {},
   "outputs": [],
   "source": [
    "data = [probcountry, probcategory, investmentaffinity, fundingaffinity, milestones, timeinmilestone, relationships]"
   ]
  },
  {
   "cell_type": "code",
   "execution_count": 60,
   "id": "aab8a80c",
   "metadata": {},
   "outputs": [
    {
     "name": "stdout",
     "output_type": "stream",
     "text": [
      "[0.5780596642326655, 0.003142982236677508, 2.208432910811413e-41, 5.874964223421606e-23, 3, 313, 4]\n"
     ]
    }
   ],
   "source": [
    "print(data)"
   ]
  },
  {
   "cell_type": "code",
   "execution_count": 61,
   "id": "b0c4cc70",
   "metadata": {},
   "outputs": [],
   "source": [
    "import pandas as pd \n",
    "df = pd.read_csv(\"finaldata.csv\")\n",
    "df = df.drop(\"Unnamed: 0\", axis = 1)\n",
    "data[3] = (data[3] - df[\"fundingaffinity\"].min(axis=0)) / (df[\"fundingaffinity\"].max(axis=0)-df[\"fundingaffinity\"].min(axis=0))\n"
   ]
  },
  {
   "cell_type": "code",
   "execution_count": 62,
   "id": "4042d596",
   "metadata": {},
   "outputs": [
    {
     "name": "stdout",
     "output_type": "stream",
     "text": [
      "[0.5780596642326655, 0.003142982236677508, 2.208432910811413e-41, 5.283241208112955e-31, 3, 313, 4]\n"
     ]
    }
   ],
   "source": [
    "print(data)"
   ]
  },
  {
   "cell_type": "code",
   "execution_count": 63,
   "id": "3c4bb2fd",
   "metadata": {},
   "outputs": [],
   "source": [
    "data[5] = (data[5] - df[\"timeinmilestone\"].min(axis=0)) / (df[\"timeinmilestone\"].max(axis=0)-df[\"timeinmilestone\"].min(axis=0))"
   ]
  },
  {
   "cell_type": "code",
   "execution_count": 64,
   "id": "e38d0d90",
   "metadata": {},
   "outputs": [],
   "source": [
    "data[6] = (data[6] - df[\"relationships\"].min(axis=0)) / (df[\"relationships\"].max(axis=0)-df[\"relationships\"].min(axis=0))\n"
   ]
  },
  {
   "cell_type": "code",
   "execution_count": 75,
   "id": "24d2a29e",
   "metadata": {},
   "outputs": [
    {
     "name": "stderr",
     "output_type": "stream",
     "text": [
      "/Users/kushshah/opt/anaconda3/lib/python3.9/site-packages/sklearn/base.py:450: UserWarning: X does not have valid feature names, but LogisticRegression was fitted with feature names\n",
      "  warnings.warn(\n",
      "/Users/kushshah/opt/anaconda3/lib/python3.9/site-packages/sklearn/base.py:566: FutureWarning: Arrays of bytes/strings is being converted to decimal numbers if dtype='numeric'. This behavior is deprecated in 0.24 and will be removed in 1.1 (renaming of 0.26). Please convert your data to numeric values explicitly instead.\n",
      "  X = check_array(X, **check_params)\n"
     ]
    },
    {
     "ename": "ValueError",
     "evalue": "Unable to convert array of bytes/strings into decimal numbers with dtype='numeric'",
     "output_type": "error",
     "traceback": [
      "\u001b[0;31m---------------------------------------------------------------------------\u001b[0m",
      "\u001b[0;31mValueError\u001b[0m                                Traceback (most recent call last)",
      "\u001b[0;32m~/opt/anaconda3/lib/python3.9/site-packages/sklearn/utils/validation.py\u001b[0m in \u001b[0;36mcheck_array\u001b[0;34m(array, accept_sparse, accept_large_sparse, dtype, order, copy, force_all_finite, ensure_2d, allow_nd, ensure_min_samples, ensure_min_features, estimator)\u001b[0m\n\u001b[1;32m    786\u001b[0m             \u001b[0;32mtry\u001b[0m\u001b[0;34m:\u001b[0m\u001b[0;34m\u001b[0m\u001b[0;34m\u001b[0m\u001b[0m\n\u001b[0;32m--> 787\u001b[0;31m                 \u001b[0marray\u001b[0m \u001b[0;34m=\u001b[0m \u001b[0marray\u001b[0m\u001b[0;34m.\u001b[0m\u001b[0mastype\u001b[0m\u001b[0;34m(\u001b[0m\u001b[0mnp\u001b[0m\u001b[0;34m.\u001b[0m\u001b[0mfloat64\u001b[0m\u001b[0;34m)\u001b[0m\u001b[0;34m\u001b[0m\u001b[0;34m\u001b[0m\u001b[0m\n\u001b[0m\u001b[1;32m    788\u001b[0m             \u001b[0;32mexcept\u001b[0m \u001b[0mValueError\u001b[0m \u001b[0;32mas\u001b[0m \u001b[0me\u001b[0m\u001b[0;34m:\u001b[0m\u001b[0;34m\u001b[0m\u001b[0;34m\u001b[0m\u001b[0m\n",
      "\u001b[0;31mValueError\u001b[0m: could not convert string to float: 'countryfreq'",
      "\nThe above exception was the direct cause of the following exception:\n",
      "\u001b[0;31mValueError\u001b[0m                                Traceback (most recent call last)",
      "\u001b[0;32m/var/folders/31/89q4lfy92jx4lp6kwytq6lmw0000gn/T/ipykernel_36191/462784307.py\u001b[0m in \u001b[0;36m<module>\u001b[0;34m\u001b[0m\n\u001b[1;32m      9\u001b[0m \u001b[0mlogreg\u001b[0m\u001b[0;34m.\u001b[0m\u001b[0mfit\u001b[0m\u001b[0;34m(\u001b[0m\u001b[0mx_train\u001b[0m\u001b[0;34m,\u001b[0m\u001b[0my_train\u001b[0m\u001b[0;34m)\u001b[0m\u001b[0;34m\u001b[0m\u001b[0;34m\u001b[0m\u001b[0m\n\u001b[1;32m     10\u001b[0m \u001b[0mtest\u001b[0m \u001b[0;34m=\u001b[0m \u001b[0mnp\u001b[0m\u001b[0;34m.\u001b[0m\u001b[0marray\u001b[0m\u001b[0;34m(\u001b[0m\u001b[0;34m[\u001b[0m\u001b[0mfeatures\u001b[0m\u001b[0;34m,\u001b[0m\u001b[0mdata\u001b[0m\u001b[0;34m]\u001b[0m\u001b[0;34m)\u001b[0m\u001b[0;34m\u001b[0m\u001b[0;34m\u001b[0m\u001b[0m\n\u001b[0;32m---> 11\u001b[0;31m \u001b[0my_pred\u001b[0m \u001b[0;34m=\u001b[0m \u001b[0mlogreg\u001b[0m\u001b[0;34m.\u001b[0m\u001b[0mpredict\u001b[0m\u001b[0;34m(\u001b[0m\u001b[0mtest\u001b[0m\u001b[0;34m)\u001b[0m\u001b[0;34m\u001b[0m\u001b[0;34m\u001b[0m\u001b[0m\n\u001b[0m\u001b[1;32m     12\u001b[0m \u001b[0mprint\u001b[0m\u001b[0;34m(\u001b[0m\u001b[0my_pred\u001b[0m\u001b[0;34m)\u001b[0m\u001b[0;34m\u001b[0m\u001b[0;34m\u001b[0m\u001b[0m\n",
      "\u001b[0;32m~/opt/anaconda3/lib/python3.9/site-packages/sklearn/linear_model/_base.py\u001b[0m in \u001b[0;36mpredict\u001b[0;34m(self, X)\u001b[0m\n\u001b[1;32m    423\u001b[0m             \u001b[0mVector\u001b[0m \u001b[0mcontaining\u001b[0m \u001b[0mthe\u001b[0m \u001b[0;32mclass\u001b[0m \u001b[0mlabels\u001b[0m \u001b[0;32mfor\u001b[0m \u001b[0meach\u001b[0m \u001b[0msample\u001b[0m\u001b[0;34m.\u001b[0m\u001b[0;34m\u001b[0m\u001b[0;34m\u001b[0m\u001b[0m\n\u001b[1;32m    424\u001b[0m         \"\"\"\n\u001b[0;32m--> 425\u001b[0;31m         \u001b[0mscores\u001b[0m \u001b[0;34m=\u001b[0m \u001b[0mself\u001b[0m\u001b[0;34m.\u001b[0m\u001b[0mdecision_function\u001b[0m\u001b[0;34m(\u001b[0m\u001b[0mX\u001b[0m\u001b[0;34m)\u001b[0m\u001b[0;34m\u001b[0m\u001b[0;34m\u001b[0m\u001b[0m\n\u001b[0m\u001b[1;32m    426\u001b[0m         \u001b[0;32mif\u001b[0m \u001b[0mlen\u001b[0m\u001b[0;34m(\u001b[0m\u001b[0mscores\u001b[0m\u001b[0;34m.\u001b[0m\u001b[0mshape\u001b[0m\u001b[0;34m)\u001b[0m \u001b[0;34m==\u001b[0m \u001b[0;36m1\u001b[0m\u001b[0;34m:\u001b[0m\u001b[0;34m\u001b[0m\u001b[0;34m\u001b[0m\u001b[0m\n\u001b[1;32m    427\u001b[0m             \u001b[0mindices\u001b[0m \u001b[0;34m=\u001b[0m \u001b[0;34m(\u001b[0m\u001b[0mscores\u001b[0m \u001b[0;34m>\u001b[0m \u001b[0;36m0\u001b[0m\u001b[0;34m)\u001b[0m\u001b[0;34m.\u001b[0m\u001b[0mastype\u001b[0m\u001b[0;34m(\u001b[0m\u001b[0mint\u001b[0m\u001b[0;34m)\u001b[0m\u001b[0;34m\u001b[0m\u001b[0;34m\u001b[0m\u001b[0m\n",
      "\u001b[0;32m~/opt/anaconda3/lib/python3.9/site-packages/sklearn/linear_model/_base.py\u001b[0m in \u001b[0;36mdecision_function\u001b[0;34m(self, X)\u001b[0m\n\u001b[1;32m    405\u001b[0m         \u001b[0mcheck_is_fitted\u001b[0m\u001b[0;34m(\u001b[0m\u001b[0mself\u001b[0m\u001b[0;34m)\u001b[0m\u001b[0;34m\u001b[0m\u001b[0;34m\u001b[0m\u001b[0m\n\u001b[1;32m    406\u001b[0m \u001b[0;34m\u001b[0m\u001b[0m\n\u001b[0;32m--> 407\u001b[0;31m         \u001b[0mX\u001b[0m \u001b[0;34m=\u001b[0m \u001b[0mself\u001b[0m\u001b[0;34m.\u001b[0m\u001b[0m_validate_data\u001b[0m\u001b[0;34m(\u001b[0m\u001b[0mX\u001b[0m\u001b[0;34m,\u001b[0m \u001b[0maccept_sparse\u001b[0m\u001b[0;34m=\u001b[0m\u001b[0;34m\"csr\"\u001b[0m\u001b[0;34m,\u001b[0m \u001b[0mreset\u001b[0m\u001b[0;34m=\u001b[0m\u001b[0;32mFalse\u001b[0m\u001b[0;34m)\u001b[0m\u001b[0;34m\u001b[0m\u001b[0;34m\u001b[0m\u001b[0m\n\u001b[0m\u001b[1;32m    408\u001b[0m         \u001b[0mscores\u001b[0m \u001b[0;34m=\u001b[0m \u001b[0msafe_sparse_dot\u001b[0m\u001b[0;34m(\u001b[0m\u001b[0mX\u001b[0m\u001b[0;34m,\u001b[0m \u001b[0mself\u001b[0m\u001b[0;34m.\u001b[0m\u001b[0mcoef_\u001b[0m\u001b[0;34m.\u001b[0m\u001b[0mT\u001b[0m\u001b[0;34m,\u001b[0m \u001b[0mdense_output\u001b[0m\u001b[0;34m=\u001b[0m\u001b[0;32mTrue\u001b[0m\u001b[0;34m)\u001b[0m \u001b[0;34m+\u001b[0m \u001b[0mself\u001b[0m\u001b[0;34m.\u001b[0m\u001b[0mintercept_\u001b[0m\u001b[0;34m\u001b[0m\u001b[0;34m\u001b[0m\u001b[0m\n\u001b[1;32m    409\u001b[0m         \u001b[0;32mreturn\u001b[0m \u001b[0mscores\u001b[0m\u001b[0;34m.\u001b[0m\u001b[0mravel\u001b[0m\u001b[0;34m(\u001b[0m\u001b[0;34m)\u001b[0m \u001b[0;32mif\u001b[0m \u001b[0mscores\u001b[0m\u001b[0;34m.\u001b[0m\u001b[0mshape\u001b[0m\u001b[0;34m[\u001b[0m\u001b[0;36m1\u001b[0m\u001b[0;34m]\u001b[0m \u001b[0;34m==\u001b[0m \u001b[0;36m1\u001b[0m \u001b[0;32melse\u001b[0m \u001b[0mscores\u001b[0m\u001b[0;34m\u001b[0m\u001b[0;34m\u001b[0m\u001b[0m\n",
      "\u001b[0;32m~/opt/anaconda3/lib/python3.9/site-packages/sklearn/base.py\u001b[0m in \u001b[0;36m_validate_data\u001b[0;34m(self, X, y, reset, validate_separately, **check_params)\u001b[0m\n\u001b[1;32m    564\u001b[0m             \u001b[0;32mraise\u001b[0m \u001b[0mValueError\u001b[0m\u001b[0;34m(\u001b[0m\u001b[0;34m\"Validation should be done on X, y or both.\"\u001b[0m\u001b[0;34m)\u001b[0m\u001b[0;34m\u001b[0m\u001b[0;34m\u001b[0m\u001b[0m\n\u001b[1;32m    565\u001b[0m         \u001b[0;32melif\u001b[0m \u001b[0;32mnot\u001b[0m \u001b[0mno_val_X\u001b[0m \u001b[0;32mand\u001b[0m \u001b[0mno_val_y\u001b[0m\u001b[0;34m:\u001b[0m\u001b[0;34m\u001b[0m\u001b[0;34m\u001b[0m\u001b[0m\n\u001b[0;32m--> 566\u001b[0;31m             \u001b[0mX\u001b[0m \u001b[0;34m=\u001b[0m \u001b[0mcheck_array\u001b[0m\u001b[0;34m(\u001b[0m\u001b[0mX\u001b[0m\u001b[0;34m,\u001b[0m \u001b[0;34m**\u001b[0m\u001b[0mcheck_params\u001b[0m\u001b[0;34m)\u001b[0m\u001b[0;34m\u001b[0m\u001b[0;34m\u001b[0m\u001b[0m\n\u001b[0m\u001b[1;32m    567\u001b[0m             \u001b[0mout\u001b[0m \u001b[0;34m=\u001b[0m \u001b[0mX\u001b[0m\u001b[0;34m\u001b[0m\u001b[0;34m\u001b[0m\u001b[0m\n\u001b[1;32m    568\u001b[0m         \u001b[0;32melif\u001b[0m \u001b[0mno_val_X\u001b[0m \u001b[0;32mand\u001b[0m \u001b[0;32mnot\u001b[0m \u001b[0mno_val_y\u001b[0m\u001b[0;34m:\u001b[0m\u001b[0;34m\u001b[0m\u001b[0;34m\u001b[0m\u001b[0m\n",
      "\u001b[0;32m~/opt/anaconda3/lib/python3.9/site-packages/sklearn/utils/validation.py\u001b[0m in \u001b[0;36mcheck_array\u001b[0;34m(array, accept_sparse, accept_large_sparse, dtype, order, copy, force_all_finite, ensure_2d, allow_nd, ensure_min_samples, ensure_min_features, estimator)\u001b[0m\n\u001b[1;32m    787\u001b[0m                 \u001b[0marray\u001b[0m \u001b[0;34m=\u001b[0m \u001b[0marray\u001b[0m\u001b[0;34m.\u001b[0m\u001b[0mastype\u001b[0m\u001b[0;34m(\u001b[0m\u001b[0mnp\u001b[0m\u001b[0;34m.\u001b[0m\u001b[0mfloat64\u001b[0m\u001b[0;34m)\u001b[0m\u001b[0;34m\u001b[0m\u001b[0;34m\u001b[0m\u001b[0m\n\u001b[1;32m    788\u001b[0m             \u001b[0;32mexcept\u001b[0m \u001b[0mValueError\u001b[0m \u001b[0;32mas\u001b[0m \u001b[0me\u001b[0m\u001b[0;34m:\u001b[0m\u001b[0;34m\u001b[0m\u001b[0;34m\u001b[0m\u001b[0m\n\u001b[0;32m--> 789\u001b[0;31m                 raise ValueError(\n\u001b[0m\u001b[1;32m    790\u001b[0m                     \u001b[0;34m\"Unable to convert array of bytes/strings \"\u001b[0m\u001b[0;34m\u001b[0m\u001b[0;34m\u001b[0m\u001b[0m\n\u001b[1;32m    791\u001b[0m                     \u001b[0;34m\"into decimal numbers with dtype='numeric'\"\u001b[0m\u001b[0;34m\u001b[0m\u001b[0;34m\u001b[0m\u001b[0m\n",
      "\u001b[0;31mValueError\u001b[0m: Unable to convert array of bytes/strings into decimal numbers with dtype='numeric'"
     ]
    }
   ],
   "source": [
    "import numpy as np\n",
    "from sklearn.model_selection import train_test_split\n",
    "features = [\"countryfreq\",\"categoryfreq\",\"investmentaffinity\",\"fundingaffinity\",\"milestones\",\"timeinmilestone\",\"relationships\"]\n",
    "x = df[features]\n",
    "y = df.outcome\n",
    "x_train, x_test, y_train, y_test = train_test_split(x,y,test_size = 0.3, random_state = 7)\n",
    "from sklearn.linear_model import LogisticRegression\n",
    "logreg = LogisticRegression(random_state = 7)\n",
    "logreg.fit(x_train,y_train)\n",
    "test = pd.DataFrame()\n",
    "y_pred = logreg.predict(test)\n",
    "print(y_pred)"
   ]
  },
  {
   "cell_type": "code",
   "execution_count": null,
   "id": "83273f96",
   "metadata": {},
   "outputs": [],
   "source": []
  }
 ],
 "metadata": {
  "kernelspec": {
   "display_name": "Python 3 (ipykernel)",
   "language": "python",
   "name": "python3"
  },
  "language_info": {
   "codemirror_mode": {
    "name": "ipython",
    "version": 3
   },
   "file_extension": ".py",
   "mimetype": "text/x-python",
   "name": "python",
   "nbconvert_exporter": "python",
   "pygments_lexer": "ipython3",
   "version": "3.9.13"
  }
 },
 "nbformat": 4,
 "nbformat_minor": 5
}
